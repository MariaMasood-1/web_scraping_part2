{
  "nbformat": 4,
  "nbformat_minor": 0,
  "metadata": {
    "colab": {
      "name": "Maria_Masood_Web_Scraping_in_depth_part2.ipynb",
      "provenance": []
    },
    "kernelspec": {
      "name": "python3",
      "display_name": "Python 3"
    },
    "language_info": {
      "name": "python"
    }
  },
  "cells": [
    {
      "cell_type": "code",
      "metadata": {
        "colab": {
          "base_uri": "https://localhost:8080/"
        },
        "id": "74N6FUlHXeFx",
        "outputId": "26df00b4-c8f7-41d5-dbed-d141a1c68e44"
      },
      "source": [
        "#Created by: Maria Masood\n",
        "#Date: 03/30/2021\n",
        "#Description: Scrapes the http://books.toscrape.com/catalogue/page-{}.html to get the one star books residing in 1 to 5th page\n",
        "\n",
        "# This example checks to see if we have bs4 installed and will return a boolean.\n",
        "import sys\n",
        "'bs4' in sys.modules\n",
        "# install libraries\n",
        "!pip install requests\n",
        "!pip install lxml\n",
        "!pip install bs4\n",
        "# start by importing our libraries\n",
        "import requests\n",
        "import bs4\n",
        "base_url = \"http://books.toscrape.com/catalogue/page-{}.html\"    #initializing base_url\n",
        "# start by initiating an empty list that will hold our output.\n",
        "five_star_titles = []\n",
        "\n",
        "# Now iterate to get info from each page.\n",
        "# We want to include page 1-5, so index should go up to, but not include 6,\n",
        "for n in range (1,6):\n",
        "  scrape_url = base_url.format(n)    #using .format to pass n for the range of pages\n",
        "  res = requests.get(scrape_url)      # make a fresh request for the page content\n",
        "  soup = bs4.BeautifulSoup(res.text,'lxml')    # Creating a soup using beautiful soup to get a structured html code\n",
        "  books = soup.select(\".product_pod\")       # Because we're parsing a class put the . in our argument\n",
        "  # within our loop, we'll create another loop to parse the books and select star rating five.\n",
        "  for book in books:\n",
        "    if len(book.select('.star-rating.One')) != 0: # if the list is not empty, then we do have a 1 star book. Could also use if 'star-rating One' in str(book)\n",
        "      book_title = book.select('a')[1]['title']\n",
        "      five_star_titles.append(book_title)\n",
        "print(five_star_titles) "
      ],
      "execution_count": null,
      "outputs": [
        {
          "output_type": "stream",
          "text": [
            "Requirement already satisfied: requests in /usr/local/lib/python3.7/dist-packages (2.23.0)\n",
            "Requirement already satisfied: idna<3,>=2.5 in /usr/local/lib/python3.7/dist-packages (from requests) (2.10)\n",
            "Requirement already satisfied: chardet<4,>=3.0.2 in /usr/local/lib/python3.7/dist-packages (from requests) (3.0.4)\n",
            "Requirement already satisfied: certifi>=2017.4.17 in /usr/local/lib/python3.7/dist-packages (from requests) (2020.12.5)\n",
            "Requirement already satisfied: urllib3!=1.25.0,!=1.25.1,<1.26,>=1.21.1 in /usr/local/lib/python3.7/dist-packages (from requests) (1.24.3)\n",
            "Requirement already satisfied: lxml in /usr/local/lib/python3.7/dist-packages (4.2.6)\n",
            "Requirement already satisfied: bs4 in /usr/local/lib/python3.7/dist-packages (0.0.1)\n",
            "Requirement already satisfied: beautifulsoup4 in /usr/local/lib/python3.7/dist-packages (from bs4) (4.6.3)\n",
            "['Tipping the Velvet', 'Soumission', 'The Requiem Red', 'The Black Maria', 'Olio', 'Mesaerion: The Best Science Fiction Stories 1800-1849', 'In Her Wake', 'The Bear and the Piano', 'In a Dark, Dark Wood', 'When We Collided', 'Unbound: How Eight Technologies Made Us Human, Transformed Society, and Brought Our World to the Brink', 'Tsubasa: WoRLD CHRoNiCLE 2 (Tsubasa WoRLD CHRoNiCLE #2)', 'The Torch Is Passed: A Harding Family Story', 'The Secret of Dreadwillow Carse', 'The Pioneer Woman Cooks: Dinnertime: Comfort Classics, Freezer Food, 16-Minute Meals, and Other Delicious Ways to Solve Supper!', 'The Gutsy Girl: Escapades for Your Life of Epic Adventure', 'The Electric Pencil: Drawings from Inside State Hospital No. 3', 'The Age of Genius: The Seventeenth Century and the Birth of the Modern Mind', 'Pop Gun War, Volume 1: Gift', 'orange: The Complete Collection 1 (orange: The Complete Collection #1)', 'Online Marketing for Busy Authors: A Step-By-Step Guide', 'Layered: Baking, Building, and Styling Spectacular Cakes']\n"
          ],
          "name": "stdout"
        }
      ]
    }
  ]
}